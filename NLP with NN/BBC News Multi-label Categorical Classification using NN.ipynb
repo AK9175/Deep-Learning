{
 "cells": [
  {
   "cell_type": "markdown",
   "metadata": {},
   "source": [
    "https://storage.googleapis.com/laurencemoroney-blog.appspot.com/bbc-text.csv \n",
    "http://mlg.ucd.ie/datasets/bbc.html\n",
    "#### Link to the datset"
   ]
  },
  {
   "cell_type": "code",
   "execution_count": 1,
   "metadata": {},
   "outputs": [],
   "source": [
    "import pandas as pd"
   ]
  },
  {
   "cell_type": "code",
   "execution_count": 2,
   "metadata": {},
   "outputs": [],
   "source": [
    "import numpy as np"
   ]
  },
  {
   "cell_type": "code",
   "execution_count": 3,
   "metadata": {},
   "outputs": [],
   "source": [
    "df = pd.read_csv('bbc-text.csv')"
   ]
  },
  {
   "cell_type": "code",
   "execution_count": 66,
   "metadata": {},
   "outputs": [
    {
     "data": {
      "text/html": [
       "<div>\n",
       "<style scoped>\n",
       "    .dataframe tbody tr th:only-of-type {\n",
       "        vertical-align: middle;\n",
       "    }\n",
       "\n",
       "    .dataframe tbody tr th {\n",
       "        vertical-align: top;\n",
       "    }\n",
       "\n",
       "    .dataframe thead th {\n",
       "        text-align: right;\n",
       "    }\n",
       "</style>\n",
       "<table border=\"1\" class=\"dataframe\">\n",
       "  <thead>\n",
       "    <tr style=\"text-align: right;\">\n",
       "      <th></th>\n",
       "      <th>text</th>\n",
       "      <th>business</th>\n",
       "      <th>entertainment</th>\n",
       "      <th>politics</th>\n",
       "      <th>sport</th>\n",
       "      <th>tech</th>\n",
       "    </tr>\n",
       "  </thead>\n",
       "  <tbody>\n",
       "    <tr>\n",
       "      <th>0</th>\n",
       "      <td>tv future in the hands of viewers with home th...</td>\n",
       "      <td>0.0</td>\n",
       "      <td>0.0</td>\n",
       "      <td>0.0</td>\n",
       "      <td>0.0</td>\n",
       "      <td>1.0</td>\n",
       "    </tr>\n",
       "    <tr>\n",
       "      <th>1</th>\n",
       "      <td>worldcom boss  left books alone  former worldc...</td>\n",
       "      <td>1.0</td>\n",
       "      <td>0.0</td>\n",
       "      <td>0.0</td>\n",
       "      <td>0.0</td>\n",
       "      <td>0.0</td>\n",
       "    </tr>\n",
       "    <tr>\n",
       "      <th>2</th>\n",
       "      <td>tigers wary of farrell  gamble  leicester say ...</td>\n",
       "      <td>0.0</td>\n",
       "      <td>0.0</td>\n",
       "      <td>0.0</td>\n",
       "      <td>1.0</td>\n",
       "      <td>0.0</td>\n",
       "    </tr>\n",
       "    <tr>\n",
       "      <th>3</th>\n",
       "      <td>yeading face newcastle in fa cup premiership s...</td>\n",
       "      <td>0.0</td>\n",
       "      <td>0.0</td>\n",
       "      <td>0.0</td>\n",
       "      <td>1.0</td>\n",
       "      <td>0.0</td>\n",
       "    </tr>\n",
       "    <tr>\n",
       "      <th>4</th>\n",
       "      <td>ocean s twelve raids box office ocean s twelve...</td>\n",
       "      <td>0.0</td>\n",
       "      <td>1.0</td>\n",
       "      <td>0.0</td>\n",
       "      <td>0.0</td>\n",
       "      <td>0.0</td>\n",
       "    </tr>\n",
       "  </tbody>\n",
       "</table>\n",
       "</div>"
      ],
      "text/plain": [
       "                                                text  business  entertainment  \\\n",
       "0  tv future in the hands of viewers with home th...       0.0            0.0   \n",
       "1  worldcom boss  left books alone  former worldc...       1.0            0.0   \n",
       "2  tigers wary of farrell  gamble  leicester say ...       0.0            0.0   \n",
       "3  yeading face newcastle in fa cup premiership s...       0.0            0.0   \n",
       "4  ocean s twelve raids box office ocean s twelve...       0.0            1.0   \n",
       "\n",
       "   politics  sport  tech  \n",
       "0       0.0    0.0   1.0  \n",
       "1       0.0    0.0   0.0  \n",
       "2       0.0    1.0   0.0  \n",
       "3       0.0    1.0   0.0  \n",
       "4       0.0    0.0   0.0  "
      ]
     },
     "execution_count": 66,
     "metadata": {},
     "output_type": "execute_result"
    }
   ],
   "source": [
    "df.head()"
   ]
  },
  {
   "cell_type": "code",
   "execution_count": 5,
   "metadata": {},
   "outputs": [],
   "source": [
    "df1 = pd.get_dummies(df['category'])"
   ]
  },
  {
   "cell_type": "code",
   "execution_count": 6,
   "metadata": {},
   "outputs": [
    {
     "data": {
      "text/html": [
       "<div>\n",
       "<style scoped>\n",
       "    .dataframe tbody tr th:only-of-type {\n",
       "        vertical-align: middle;\n",
       "    }\n",
       "\n",
       "    .dataframe tbody tr th {\n",
       "        vertical-align: top;\n",
       "    }\n",
       "\n",
       "    .dataframe thead th {\n",
       "        text-align: right;\n",
       "    }\n",
       "</style>\n",
       "<table border=\"1\" class=\"dataframe\">\n",
       "  <thead>\n",
       "    <tr style=\"text-align: right;\">\n",
       "      <th></th>\n",
       "      <th>business</th>\n",
       "      <th>entertainment</th>\n",
       "      <th>politics</th>\n",
       "      <th>sport</th>\n",
       "      <th>tech</th>\n",
       "    </tr>\n",
       "  </thead>\n",
       "  <tbody>\n",
       "    <tr>\n",
       "      <th>0</th>\n",
       "      <td>0</td>\n",
       "      <td>0</td>\n",
       "      <td>0</td>\n",
       "      <td>0</td>\n",
       "      <td>1</td>\n",
       "    </tr>\n",
       "    <tr>\n",
       "      <th>1</th>\n",
       "      <td>1</td>\n",
       "      <td>0</td>\n",
       "      <td>0</td>\n",
       "      <td>0</td>\n",
       "      <td>0</td>\n",
       "    </tr>\n",
       "    <tr>\n",
       "      <th>2</th>\n",
       "      <td>0</td>\n",
       "      <td>0</td>\n",
       "      <td>0</td>\n",
       "      <td>1</td>\n",
       "      <td>0</td>\n",
       "    </tr>\n",
       "    <tr>\n",
       "      <th>3</th>\n",
       "      <td>0</td>\n",
       "      <td>0</td>\n",
       "      <td>0</td>\n",
       "      <td>1</td>\n",
       "      <td>0</td>\n",
       "    </tr>\n",
       "    <tr>\n",
       "      <th>4</th>\n",
       "      <td>0</td>\n",
       "      <td>1</td>\n",
       "      <td>0</td>\n",
       "      <td>0</td>\n",
       "      <td>0</td>\n",
       "    </tr>\n",
       "    <tr>\n",
       "      <th>...</th>\n",
       "      <td>...</td>\n",
       "      <td>...</td>\n",
       "      <td>...</td>\n",
       "      <td>...</td>\n",
       "      <td>...</td>\n",
       "    </tr>\n",
       "    <tr>\n",
       "      <th>2220</th>\n",
       "      <td>1</td>\n",
       "      <td>0</td>\n",
       "      <td>0</td>\n",
       "      <td>0</td>\n",
       "      <td>0</td>\n",
       "    </tr>\n",
       "    <tr>\n",
       "      <th>2221</th>\n",
       "      <td>0</td>\n",
       "      <td>0</td>\n",
       "      <td>1</td>\n",
       "      <td>0</td>\n",
       "      <td>0</td>\n",
       "    </tr>\n",
       "    <tr>\n",
       "      <th>2222</th>\n",
       "      <td>0</td>\n",
       "      <td>1</td>\n",
       "      <td>0</td>\n",
       "      <td>0</td>\n",
       "      <td>0</td>\n",
       "    </tr>\n",
       "    <tr>\n",
       "      <th>2223</th>\n",
       "      <td>0</td>\n",
       "      <td>0</td>\n",
       "      <td>1</td>\n",
       "      <td>0</td>\n",
       "      <td>0</td>\n",
       "    </tr>\n",
       "    <tr>\n",
       "      <th>2224</th>\n",
       "      <td>0</td>\n",
       "      <td>0</td>\n",
       "      <td>0</td>\n",
       "      <td>1</td>\n",
       "      <td>0</td>\n",
       "    </tr>\n",
       "  </tbody>\n",
       "</table>\n",
       "<p>2225 rows × 5 columns</p>\n",
       "</div>"
      ],
      "text/plain": [
       "      business  entertainment  politics  sport  tech\n",
       "0            0              0         0      0     1\n",
       "1            1              0         0      0     0\n",
       "2            0              0         0      1     0\n",
       "3            0              0         0      1     0\n",
       "4            0              1         0      0     0\n",
       "...        ...            ...       ...    ...   ...\n",
       "2220         1              0         0      0     0\n",
       "2221         0              0         1      0     0\n",
       "2222         0              1         0      0     0\n",
       "2223         0              0         1      0     0\n",
       "2224         0              0         0      1     0\n",
       "\n",
       "[2225 rows x 5 columns]"
      ]
     },
     "execution_count": 6,
     "metadata": {},
     "output_type": "execute_result"
    }
   ],
   "source": [
    "df1"
   ]
  },
  {
   "cell_type": "code",
   "execution_count": 7,
   "metadata": {},
   "outputs": [],
   "source": [
    "df = pd.concat([df,df1],axis=1)"
   ]
  },
  {
   "cell_type": "code",
   "execution_count": 8,
   "metadata": {},
   "outputs": [],
   "source": [
    "df = df.drop('category',axis=1)"
   ]
  },
  {
   "cell_type": "code",
   "execution_count": 9,
   "metadata": {},
   "outputs": [
    {
     "data": {
      "text/html": [
       "<div>\n",
       "<style scoped>\n",
       "    .dataframe tbody tr th:only-of-type {\n",
       "        vertical-align: middle;\n",
       "    }\n",
       "\n",
       "    .dataframe tbody tr th {\n",
       "        vertical-align: top;\n",
       "    }\n",
       "\n",
       "    .dataframe thead th {\n",
       "        text-align: right;\n",
       "    }\n",
       "</style>\n",
       "<table border=\"1\" class=\"dataframe\">\n",
       "  <thead>\n",
       "    <tr style=\"text-align: right;\">\n",
       "      <th></th>\n",
       "      <th>text</th>\n",
       "      <th>business</th>\n",
       "      <th>entertainment</th>\n",
       "      <th>politics</th>\n",
       "      <th>sport</th>\n",
       "      <th>tech</th>\n",
       "    </tr>\n",
       "  </thead>\n",
       "  <tbody>\n",
       "    <tr>\n",
       "      <th>0</th>\n",
       "      <td>tv future in the hands of viewers with home th...</td>\n",
       "      <td>0</td>\n",
       "      <td>0</td>\n",
       "      <td>0</td>\n",
       "      <td>0</td>\n",
       "      <td>1</td>\n",
       "    </tr>\n",
       "    <tr>\n",
       "      <th>1</th>\n",
       "      <td>worldcom boss  left books alone  former worldc...</td>\n",
       "      <td>1</td>\n",
       "      <td>0</td>\n",
       "      <td>0</td>\n",
       "      <td>0</td>\n",
       "      <td>0</td>\n",
       "    </tr>\n",
       "    <tr>\n",
       "      <th>2</th>\n",
       "      <td>tigers wary of farrell  gamble  leicester say ...</td>\n",
       "      <td>0</td>\n",
       "      <td>0</td>\n",
       "      <td>0</td>\n",
       "      <td>1</td>\n",
       "      <td>0</td>\n",
       "    </tr>\n",
       "    <tr>\n",
       "      <th>3</th>\n",
       "      <td>yeading face newcastle in fa cup premiership s...</td>\n",
       "      <td>0</td>\n",
       "      <td>0</td>\n",
       "      <td>0</td>\n",
       "      <td>1</td>\n",
       "      <td>0</td>\n",
       "    </tr>\n",
       "    <tr>\n",
       "      <th>4</th>\n",
       "      <td>ocean s twelve raids box office ocean s twelve...</td>\n",
       "      <td>0</td>\n",
       "      <td>1</td>\n",
       "      <td>0</td>\n",
       "      <td>0</td>\n",
       "      <td>0</td>\n",
       "    </tr>\n",
       "    <tr>\n",
       "      <th>...</th>\n",
       "      <td>...</td>\n",
       "      <td>...</td>\n",
       "      <td>...</td>\n",
       "      <td>...</td>\n",
       "      <td>...</td>\n",
       "      <td>...</td>\n",
       "    </tr>\n",
       "    <tr>\n",
       "      <th>2220</th>\n",
       "      <td>cars pull down us retail figures us retail sal...</td>\n",
       "      <td>1</td>\n",
       "      <td>0</td>\n",
       "      <td>0</td>\n",
       "      <td>0</td>\n",
       "      <td>0</td>\n",
       "    </tr>\n",
       "    <tr>\n",
       "      <th>2221</th>\n",
       "      <td>kilroy unveils immigration policy ex-chatshow ...</td>\n",
       "      <td>0</td>\n",
       "      <td>0</td>\n",
       "      <td>1</td>\n",
       "      <td>0</td>\n",
       "      <td>0</td>\n",
       "    </tr>\n",
       "    <tr>\n",
       "      <th>2222</th>\n",
       "      <td>rem announce new glasgow concert us band rem h...</td>\n",
       "      <td>0</td>\n",
       "      <td>1</td>\n",
       "      <td>0</td>\n",
       "      <td>0</td>\n",
       "      <td>0</td>\n",
       "    </tr>\n",
       "    <tr>\n",
       "      <th>2223</th>\n",
       "      <td>how political squabbles snowball it s become c...</td>\n",
       "      <td>0</td>\n",
       "      <td>0</td>\n",
       "      <td>1</td>\n",
       "      <td>0</td>\n",
       "      <td>0</td>\n",
       "    </tr>\n",
       "    <tr>\n",
       "      <th>2224</th>\n",
       "      <td>souness delight at euro progress boss graeme s...</td>\n",
       "      <td>0</td>\n",
       "      <td>0</td>\n",
       "      <td>0</td>\n",
       "      <td>1</td>\n",
       "      <td>0</td>\n",
       "    </tr>\n",
       "  </tbody>\n",
       "</table>\n",
       "<p>2225 rows × 6 columns</p>\n",
       "</div>"
      ],
      "text/plain": [
       "                                                   text  business  \\\n",
       "0     tv future in the hands of viewers with home th...         0   \n",
       "1     worldcom boss  left books alone  former worldc...         1   \n",
       "2     tigers wary of farrell  gamble  leicester say ...         0   \n",
       "3     yeading face newcastle in fa cup premiership s...         0   \n",
       "4     ocean s twelve raids box office ocean s twelve...         0   \n",
       "...                                                 ...       ...   \n",
       "2220  cars pull down us retail figures us retail sal...         1   \n",
       "2221  kilroy unveils immigration policy ex-chatshow ...         0   \n",
       "2222  rem announce new glasgow concert us band rem h...         0   \n",
       "2223  how political squabbles snowball it s become c...         0   \n",
       "2224  souness delight at euro progress boss graeme s...         0   \n",
       "\n",
       "      entertainment  politics  sport  tech  \n",
       "0                 0         0      0     1  \n",
       "1                 0         0      0     0  \n",
       "2                 0         0      1     0  \n",
       "3                 0         0      1     0  \n",
       "4                 1         0      0     0  \n",
       "...             ...       ...    ...   ...  \n",
       "2220              0         0      0     0  \n",
       "2221              0         1      0     0  \n",
       "2222              1         0      0     0  \n",
       "2223              0         1      0     0  \n",
       "2224              0         0      1     0  \n",
       "\n",
       "[2225 rows x 6 columns]"
      ]
     },
     "execution_count": 9,
     "metadata": {},
     "output_type": "execute_result"
    }
   ],
   "source": [
    "df"
   ]
  },
  {
   "cell_type": "code",
   "execution_count": 11,
   "metadata": {},
   "outputs": [],
   "source": [
    "stopwatch = [ \"a\", \"about\", \"above\", \"after\", \"again\", \"against\", \"all\", \"am\", \"an\", \"and\", \"any\", \"are\", \"as\", \"at\", \"be\", \"because\", \"been\", \"before\", \"being\", \"below\", \"between\", \"both\", \"but\", \"by\", \"could\", \"did\", \"do\", \"does\", \"doing\", \"down\", \"during\", \"each\", \"few\", \"for\", \"from\", \"further\", \"had\", \"has\", \"have\", \"having\", \"he\", \"he'd\", \"he'll\", \"he's\", \"her\", \"here\", \"here's\", \"hers\", \"herself\", \"him\", \"himself\", \"his\", \"how\", \"how's\", \"i\", \"i'd\", \"i'll\", \"i'm\", \"i've\", \"if\", \"in\", \"into\", \"is\", \"it\", \"it's\", \"its\", \"itself\", \"let's\", \"me\", \"more\", \"most\", \"my\", \"myself\", \"nor\", \"of\", \"on\", \"once\", \"only\", \"or\", \"other\", \"ought\", \"our\", \"ours\", \"ourselves\", \"out\", \"over\", \"own\", \"same\", \"she\", \"she'd\", \"she'll\", \"she's\", \"should\", \"so\", \"some\", \"such\", \"than\", \"that\", \"that's\", \"the\", \"their\", \"theirs\", \"them\", \"themselves\", \"then\", \"there\", \"there's\", \"these\", \"they\", \"they'd\", \"they'll\", \"they're\", \"they've\", \"this\", \"those\", \"through\", \"to\", \"too\", \"under\", \"until\", \"up\", \"very\", \"was\", \"we\", \"we'd\", \"we'll\", \"we're\", \"we've\", \"were\", \"what\", \"what's\", \"when\", \"when's\", \"where\", \"where's\", \"which\", \"while\", \"who\", \"who's\", \"whom\", \"why\", \"why's\", \"with\", \"would\", \"you\", \"you'd\", \"you'll\", \"you're\", \"you've\", \"your\", \"yours\", \"yourself\", \"yourselves\" ,\"s\",\"v\"]\n"
   ]
  },
  {
   "cell_type": "code",
   "execution_count": 12,
   "metadata": {},
   "outputs": [],
   "source": [
    "from sklearn.model_selection import train_test_split"
   ]
  },
  {
   "cell_type": "code",
   "execution_count": 13,
   "metadata": {},
   "outputs": [],
   "source": [
    "tech = []\n",
    "entertainment = []\n",
    "politics = []\n",
    "sport = []\n",
    "business = []\n",
    "\n",
    "for i in df.drop('text',axis=1)['tech']:\n",
    "    tech.append(np.float32(i))\n",
    "df['tech'] = np.array(tech)  "
   ]
  },
  {
   "cell_type": "code",
   "execution_count": 14,
   "metadata": {},
   "outputs": [],
   "source": [
    "for j in df.drop('text',axis=1)['entertainment']:\n",
    "    entertainment.append(np.float32(j))\n",
    "df['entertainment'] = np.array(entertainment)    "
   ]
  },
  {
   "cell_type": "code",
   "execution_count": 15,
   "metadata": {},
   "outputs": [],
   "source": [
    "for k in df.drop('text',axis=1)['politics']:\n",
    "    politics.append(np.float32(k))\n",
    "df['politics'] = np.array(politics)    \n"
   ]
  },
  {
   "cell_type": "code",
   "execution_count": 16,
   "metadata": {},
   "outputs": [],
   "source": [
    "for l in df.drop('text',axis=1)['sport']:\n",
    "    sport.append(np.float32(l))\n",
    "df['sport'] = np.array(sport)     "
   ]
  },
  {
   "cell_type": "code",
   "execution_count": 17,
   "metadata": {},
   "outputs": [],
   "source": [
    "for m in df.drop('text',axis=1)['business']:\n",
    "    business.append(np.float32(m))\n",
    "df['business'] = np.array(business) "
   ]
  },
  {
   "cell_type": "code",
   "execution_count": 18,
   "metadata": {},
   "outputs": [],
   "source": [
    "y = df.drop('text',axis=1).values"
   ]
  },
  {
   "cell_type": "code",
   "execution_count": 19,
   "metadata": {},
   "outputs": [
    {
     "data": {
      "text/plain": [
       "array([[0., 0., 0., 0., 1.],\n",
       "       [1., 0., 0., 0., 0.],\n",
       "       [0., 0., 0., 1., 0.],\n",
       "       ...,\n",
       "       [0., 1., 0., 0., 0.],\n",
       "       [0., 0., 1., 0., 0.],\n",
       "       [0., 0., 0., 1., 0.]], dtype=float32)"
      ]
     },
     "execution_count": 19,
     "metadata": {},
     "output_type": "execute_result"
    }
   ],
   "source": [
    "y"
   ]
  },
  {
   "cell_type": "code",
   "execution_count": 20,
   "metadata": {},
   "outputs": [],
   "source": [
    "X = df['text']"
   ]
  },
  {
   "cell_type": "code",
   "execution_count": 21,
   "metadata": {},
   "outputs": [],
   "source": [
    "X_train , X_test , y_train , y_test = train_test_split(X,y,test_size=0.3,random_state=101)   "
   ]
  },
  {
   "cell_type": "code",
   "execution_count": 22,
   "metadata": {},
   "outputs": [],
   "source": [
    "train_sentences = []\n",
    "train_label = []\n",
    "test_sentences = []\n",
    "test_labels = []"
   ]
  },
  {
   "cell_type": "code",
   "execution_count": 23,
   "metadata": {},
   "outputs": [],
   "source": [
    "for i , l in zip(X_train , y_train):\n",
    "    train_sentences.append(i)\n",
    "    train_label.append(l)\n",
    "for j , k in zip(X_test , y_test):\n",
    "    test_sentences.append(j)\n",
    "    test_labels.append(k)"
   ]
  },
  {
   "cell_type": "code",
   "execution_count": 24,
   "metadata": {},
   "outputs": [],
   "source": [
    "train_sentences_final = []\n",
    "test_sentences_final = []"
   ]
  },
  {
   "cell_type": "code",
   "execution_count": 25,
   "metadata": {},
   "outputs": [],
   "source": [
    "for s in train_sentences:    \n",
    "    for w in stopwatch:\n",
    "        a = \" \"+w+\" \"\n",
    "        s = s.replace(a,\" \")\n",
    "        s = s.replace(\"  \", \" \")\n",
    "    train_sentences_final.append(s)"
   ]
  },
  {
   "cell_type": "code",
   "execution_count": 26,
   "metadata": {},
   "outputs": [],
   "source": [
    "for s in test_sentences:    \n",
    "    for w in stopwatch:\n",
    "        a = \" \"+w+\" \"\n",
    "        s = s.replace(a,\" \")\n",
    "        s = s.replace(\"  \", \" \")\n",
    "    test_sentences_final.append(s) "
   ]
  },
  {
   "cell_type": "code",
   "execution_count": 35,
   "metadata": {},
   "outputs": [],
   "source": [
    "train_label = np.float32(train_label)\n",
    "test_labels = np.float32(test_labels)"
   ]
  },
  {
   "cell_type": "code",
   "execution_count": 36,
   "metadata": {},
   "outputs": [
    {
     "name": "stderr",
     "output_type": "stream",
     "text": [
      "D:\\Python\\lib\\site-packages\\tensorflow\\python\\framework\\dtypes.py:516: FutureWarning: Passing (type, 1) or '1type' as a synonym of type is deprecated; in a future version of numpy, it will be understood as (type, (1,)) / '(1,)type'.\n",
      "  _np_qint8 = np.dtype([(\"qint8\", np.int8, 1)])\n",
      "D:\\Python\\lib\\site-packages\\tensorflow\\python\\framework\\dtypes.py:517: FutureWarning: Passing (type, 1) or '1type' as a synonym of type is deprecated; in a future version of numpy, it will be understood as (type, (1,)) / '(1,)type'.\n",
      "  _np_quint8 = np.dtype([(\"quint8\", np.uint8, 1)])\n",
      "D:\\Python\\lib\\site-packages\\tensorflow\\python\\framework\\dtypes.py:518: FutureWarning: Passing (type, 1) or '1type' as a synonym of type is deprecated; in a future version of numpy, it will be understood as (type, (1,)) / '(1,)type'.\n",
      "  _np_qint16 = np.dtype([(\"qint16\", np.int16, 1)])\n",
      "D:\\Python\\lib\\site-packages\\tensorflow\\python\\framework\\dtypes.py:519: FutureWarning: Passing (type, 1) or '1type' as a synonym of type is deprecated; in a future version of numpy, it will be understood as (type, (1,)) / '(1,)type'.\n",
      "  _np_quint16 = np.dtype([(\"quint16\", np.uint16, 1)])\n",
      "D:\\Python\\lib\\site-packages\\tensorflow\\python\\framework\\dtypes.py:520: FutureWarning: Passing (type, 1) or '1type' as a synonym of type is deprecated; in a future version of numpy, it will be understood as (type, (1,)) / '(1,)type'.\n",
      "  _np_qint32 = np.dtype([(\"qint32\", np.int32, 1)])\n",
      "D:\\Python\\lib\\site-packages\\tensorflow\\python\\framework\\dtypes.py:525: FutureWarning: Passing (type, 1) or '1type' as a synonym of type is deprecated; in a future version of numpy, it will be understood as (type, (1,)) / '(1,)type'.\n",
      "  np_resource = np.dtype([(\"resource\", np.ubyte, 1)])\n",
      "D:\\Python\\lib\\site-packages\\tensorboard\\compat\\tensorflow_stub\\dtypes.py:541: FutureWarning: Passing (type, 1) or '1type' as a synonym of type is deprecated; in a future version of numpy, it will be understood as (type, (1,)) / '(1,)type'.\n",
      "  _np_qint8 = np.dtype([(\"qint8\", np.int8, 1)])\n",
      "D:\\Python\\lib\\site-packages\\tensorboard\\compat\\tensorflow_stub\\dtypes.py:542: FutureWarning: Passing (type, 1) or '1type' as a synonym of type is deprecated; in a future version of numpy, it will be understood as (type, (1,)) / '(1,)type'.\n",
      "  _np_quint8 = np.dtype([(\"quint8\", np.uint8, 1)])\n",
      "D:\\Python\\lib\\site-packages\\tensorboard\\compat\\tensorflow_stub\\dtypes.py:543: FutureWarning: Passing (type, 1) or '1type' as a synonym of type is deprecated; in a future version of numpy, it will be understood as (type, (1,)) / '(1,)type'.\n",
      "  _np_qint16 = np.dtype([(\"qint16\", np.int16, 1)])\n",
      "D:\\Python\\lib\\site-packages\\tensorboard\\compat\\tensorflow_stub\\dtypes.py:544: FutureWarning: Passing (type, 1) or '1type' as a synonym of type is deprecated; in a future version of numpy, it will be understood as (type, (1,)) / '(1,)type'.\n",
      "  _np_quint16 = np.dtype([(\"quint16\", np.uint16, 1)])\n",
      "D:\\Python\\lib\\site-packages\\tensorboard\\compat\\tensorflow_stub\\dtypes.py:545: FutureWarning: Passing (type, 1) or '1type' as a synonym of type is deprecated; in a future version of numpy, it will be understood as (type, (1,)) / '(1,)type'.\n",
      "  _np_qint32 = np.dtype([(\"qint32\", np.int32, 1)])\n",
      "D:\\Python\\lib\\site-packages\\tensorboard\\compat\\tensorflow_stub\\dtypes.py:550: FutureWarning: Passing (type, 1) or '1type' as a synonym of type is deprecated; in a future version of numpy, it will be understood as (type, (1,)) / '(1,)type'.\n",
      "  np_resource = np.dtype([(\"resource\", np.ubyte, 1)])\n"
     ]
    }
   ],
   "source": [
    "from tensorflow.keras.preprocessing.text import Tokenizer\n",
    "token = Tokenizer(num_words=10000,oov_token=\"<OOV>\")"
   ]
  },
  {
   "cell_type": "code",
   "execution_count": 37,
   "metadata": {},
   "outputs": [],
   "source": [
    "token.fit_on_texts(train_sentences_final)"
   ]
  },
  {
   "cell_type": "code",
   "execution_count": 38,
   "metadata": {},
   "outputs": [],
   "source": [
    "word_index = token.index_word"
   ]
  },
  {
   "cell_type": "code",
   "execution_count": 39,
   "metadata": {},
   "outputs": [],
   "source": [
    "train_seq = token.texts_to_sequences(train_sentences_final)"
   ]
  },
  {
   "cell_type": "code",
   "execution_count": 40,
   "metadata": {},
   "outputs": [],
   "source": [
    "from tensorflow.keras.preprocessing.sequence import pad_sequences"
   ]
  },
  {
   "cell_type": "code",
   "execution_count": 41,
   "metadata": {},
   "outputs": [],
   "source": [
    "train_padded = pad_sequences(train_seq , maxlen=120 , truncating='post')"
   ]
  },
  {
   "cell_type": "code",
   "execution_count": 42,
   "metadata": {},
   "outputs": [],
   "source": [
    "test_seq = token.texts_to_sequences(test_sentences_final)"
   ]
  },
  {
   "cell_type": "code",
   "execution_count": 43,
   "metadata": {},
   "outputs": [],
   "source": [
    "test_padded = pad_sequences(test_seq , maxlen=120 , truncating='post')"
   ]
  },
  {
   "cell_type": "code",
   "execution_count": 44,
   "metadata": {},
   "outputs": [],
   "source": [
    "from tensorflow.keras.models import Sequential"
   ]
  },
  {
   "cell_type": "code",
   "execution_count": 45,
   "metadata": {},
   "outputs": [],
   "source": [
    "from tensorflow.keras.layers import Dense , Dropout , Embedding , GlobalAveragePooling1D"
   ]
  },
  {
   "cell_type": "code",
   "execution_count": 55,
   "metadata": {},
   "outputs": [],
   "source": [
    "model = Sequential()"
   ]
  },
  {
   "cell_type": "code",
   "execution_count": 56,
   "metadata": {},
   "outputs": [
    {
     "name": "stdout",
     "output_type": "stream",
     "text": [
      "WARNING:tensorflow:From D:\\Python\\lib\\site-packages\\tensorflow\\python\\keras\\initializers.py:119: calling RandomUniform.__init__ (from tensorflow.python.ops.init_ops) with dtype is deprecated and will be removed in a future version.\n",
      "Instructions for updating:\n",
      "Call initializer instance with the dtype argument instead of passing it to the constructor\n"
     ]
    }
   ],
   "source": [
    "model.add(Embedding(10001 , 10 ,input_length = 120))\n",
    "model.add(GlobalAveragePooling1D())\n",
    "model.add(Dense(6 , activation = 'relu'))\n",
    "model.add(Dense(6 , activation = 'relu'))\n",
    "model.add(Dense(5 , activation = 'softmax'))"
   ]
  },
  {
   "cell_type": "code",
   "execution_count": 57,
   "metadata": {},
   "outputs": [],
   "source": [
    "model.compile(optimizer='adam' , loss='categorical_crossentropy',metrics=['accuracy'])"
   ]
  },
  {
   "cell_type": "code",
   "execution_count": 58,
   "metadata": {},
   "outputs": [
    {
     "name": "stdout",
     "output_type": "stream",
     "text": [
      "Train on 1557 samples, validate on 668 samples\n",
      "Epoch 1/200\n",
      "1557/1557 [==============================] - 1s 631us/sample - loss: 1.6084 - acc: 0.2473 - val_loss: 1.6063 - val_acc: 0.3144\n",
      "Epoch 2/200\n",
      "1557/1557 [==============================] - 0s 100us/sample - loss: 1.6041 - acc: 0.3340 - val_loss: 1.6015 - val_acc: 0.3608\n",
      "Epoch 3/200\n",
      "1557/1557 [==============================] - 0s 104us/sample - loss: 1.5980 - acc: 0.4136 - val_loss: 1.5955 - val_acc: 0.4371\n",
      "Epoch 4/200\n",
      "1557/1557 [==============================] - 0s 104us/sample - loss: 1.5903 - acc: 0.4271 - val_loss: 1.5876 - val_acc: 0.4326\n",
      "Epoch 5/200\n",
      "1557/1557 [==============================] - 0s 102us/sample - loss: 1.5804 - acc: 0.4483 - val_loss: 1.5777 - val_acc: 0.4506\n",
      "Epoch 6/200\n",
      "1557/1557 [==============================] - 0s 99us/sample - loss: 1.5671 - acc: 0.4534 - val_loss: 1.5646 - val_acc: 0.4536\n",
      "Epoch 7/200\n",
      "1557/1557 [==============================] - 0s 96us/sample - loss: 1.5504 - acc: 0.4534 - val_loss: 1.5478 - val_acc: 0.4596\n",
      "Epoch 8/200\n",
      "1557/1557 [==============================] - 0s 101us/sample - loss: 1.5290 - acc: 0.4836 - val_loss: 1.5272 - val_acc: 0.4895\n",
      "Epoch 9/200\n",
      "1557/1557 [==============================] - 0s 102us/sample - loss: 1.5033 - acc: 0.5434 - val_loss: 1.5023 - val_acc: 0.5240\n",
      "Epoch 10/200\n",
      "1557/1557 [==============================] - 0s 104us/sample - loss: 1.4720 - acc: 0.5678 - val_loss: 1.4721 - val_acc: 0.5464\n",
      "Epoch 11/200\n",
      "1557/1557 [==============================] - 0s 101us/sample - loss: 1.4344 - acc: 0.5922 - val_loss: 1.4365 - val_acc: 0.5614\n",
      "Epoch 12/200\n",
      "1557/1557 [==============================] - 0s 99us/sample - loss: 1.3906 - acc: 0.5967 - val_loss: 1.3954 - val_acc: 0.5614\n",
      "Epoch 13/200\n",
      "1557/1557 [==============================] - 0s 97us/sample - loss: 1.3409 - acc: 0.6108 - val_loss: 1.3499 - val_acc: 0.5793\n",
      "Epoch 14/200\n",
      "1557/1557 [==============================] - 0s 104us/sample - loss: 1.2871 - acc: 0.6230 - val_loss: 1.3009 - val_acc: 0.5868\n",
      "Epoch 15/200\n",
      "1557/1557 [==============================] - 0s 102us/sample - loss: 1.2304 - acc: 0.6435 - val_loss: 1.2501 - val_acc: 0.6048\n",
      "Epoch 16/200\n",
      "1557/1557 [==============================] - 0s 96us/sample - loss: 1.1720 - acc: 0.6654 - val_loss: 1.1981 - val_acc: 0.6228\n",
      "Epoch 17/200\n",
      "1557/1557 [==============================] - 0s 96us/sample - loss: 1.1133 - acc: 0.6808 - val_loss: 1.1471 - val_acc: 0.6302\n",
      "Epoch 18/200\n",
      "1557/1557 [==============================] - 0s 101us/sample - loss: 1.0553 - acc: 0.6872 - val_loss: 1.0965 - val_acc: 0.6332\n",
      "Epoch 19/200\n",
      "1557/1557 [==============================] - 0s 97us/sample - loss: 0.9985 - acc: 0.6988 - val_loss: 1.0468 - val_acc: 0.6377\n",
      "Epoch 20/200\n",
      "1557/1557 [==============================] - 0s 100us/sample - loss: 0.9436 - acc: 0.7058 - val_loss: 0.9993 - val_acc: 0.6437\n",
      "Epoch 21/200\n",
      "1557/1557 [==============================] - 0s 108us/sample - loss: 0.8903 - acc: 0.7103 - val_loss: 0.9533 - val_acc: 0.6557\n",
      "Epoch 22/200\n",
      "1557/1557 [==============================] - 0s 106us/sample - loss: 0.8393 - acc: 0.7136 - val_loss: 0.9094 - val_acc: 0.6557\n",
      "Epoch 23/200\n",
      "1557/1557 [==============================] - 0s 103us/sample - loss: 0.7897 - acc: 0.7213 - val_loss: 0.8643 - val_acc: 0.6707\n",
      "Epoch 24/200\n",
      "1557/1557 [==============================] - 0s 100us/sample - loss: 0.7425 - acc: 0.7373 - val_loss: 0.8221 - val_acc: 0.6796\n",
      "Epoch 25/200\n",
      "1557/1557 [==============================] - 0s 95us/sample - loss: 0.6978 - acc: 0.7431 - val_loss: 0.7834 - val_acc: 0.6796\n",
      "Epoch 26/200\n",
      "1557/1557 [==============================] - 0s 99us/sample - loss: 0.6557 - acc: 0.7514 - val_loss: 0.7468 - val_acc: 0.6886\n",
      "Epoch 27/200\n",
      "1557/1557 [==============================] - 0s 103us/sample - loss: 0.6162 - acc: 0.7624 - val_loss: 0.7115 - val_acc: 0.7051\n",
      "Epoch 28/200\n",
      "1557/1557 [==============================] - 0s 100us/sample - loss: 0.5800 - acc: 0.7759 - val_loss: 0.6792 - val_acc: 0.7156\n",
      "Epoch 29/200\n",
      "1557/1557 [==============================] - 0s 101us/sample - loss: 0.5462 - acc: 0.7829 - val_loss: 0.6500 - val_acc: 0.7275\n",
      "Epoch 30/200\n",
      "1557/1557 [==============================] - 0s 95us/sample - loss: 0.5148 - acc: 0.7874 - val_loss: 0.6240 - val_acc: 0.7305\n",
      "Epoch 31/200\n",
      "1557/1557 [==============================] - 0s 99us/sample - loss: 0.4859 - acc: 0.7970 - val_loss: 0.5987 - val_acc: 0.7485\n",
      "Epoch 32/200\n",
      "1557/1557 [==============================] - 0s 99us/sample - loss: 0.4590 - acc: 0.8041 - val_loss: 0.5741 - val_acc: 0.7575\n",
      "Epoch 33/200\n",
      "1557/1557 [==============================] - 0s 110us/sample - loss: 0.4334 - acc: 0.8080 - val_loss: 0.5522 - val_acc: 0.7620\n",
      "Epoch 34/200\n",
      "1557/1557 [==============================] - 0s 105us/sample - loss: 0.4091 - acc: 0.8137 - val_loss: 0.5302 - val_acc: 0.7680\n",
      "Epoch 35/200\n",
      "1557/1557 [==============================] - 0s 109us/sample - loss: 0.3860 - acc: 0.8471 - val_loss: 0.5103 - val_acc: 0.8009\n",
      "Epoch 36/200\n",
      "1557/1557 [==============================] - 0s 95us/sample - loss: 0.3638 - acc: 0.8902 - val_loss: 0.4915 - val_acc: 0.8159\n",
      "Epoch 37/200\n",
      "1557/1557 [==============================] - 0s 101us/sample - loss: 0.3426 - acc: 0.9120 - val_loss: 0.4734 - val_acc: 0.8428\n",
      "Epoch 38/200\n",
      "1557/1557 [==============================] - 0s 97us/sample - loss: 0.3220 - acc: 0.9242 - val_loss: 0.4569 - val_acc: 0.8518\n",
      "Epoch 39/200\n",
      "1557/1557 [==============================] - 0s 101us/sample - loss: 0.3022 - acc: 0.9486 - val_loss: 0.4384 - val_acc: 0.8757\n",
      "Epoch 40/200\n",
      "1557/1557 [==============================] - 0s 101us/sample - loss: 0.2824 - acc: 0.9672 - val_loss: 0.4228 - val_acc: 0.8817\n",
      "Epoch 41/200\n",
      "1557/1557 [==============================] - 0s 102us/sample - loss: 0.2631 - acc: 0.9743 - val_loss: 0.4038 - val_acc: 0.8967\n",
      "Epoch 42/200\n",
      "1557/1557 [==============================] - 0s 103us/sample - loss: 0.2436 - acc: 0.9807 - val_loss: 0.3889 - val_acc: 0.9042\n",
      "Epoch 43/200\n",
      "1557/1557 [==============================] - 0s 100us/sample - loss: 0.2247 - acc: 0.9839 - val_loss: 0.3731 - val_acc: 0.9102\n",
      "Epoch 44/200\n",
      "1557/1557 [==============================] - 0s 93us/sample - loss: 0.2063 - acc: 0.9872 - val_loss: 0.3565 - val_acc: 0.9147\n",
      "Epoch 45/200\n",
      "1557/1557 [==============================] - 0s 100us/sample - loss: 0.1887 - acc: 0.9878 - val_loss: 0.3428 - val_acc: 0.9177\n",
      "Epoch 46/200\n",
      "1557/1557 [==============================] - 0s 98us/sample - loss: 0.1718 - acc: 0.9910 - val_loss: 0.3279 - val_acc: 0.9222\n",
      "Epoch 47/200\n",
      "1557/1557 [==============================] - 0s 100us/sample - loss: 0.1559 - acc: 0.9923 - val_loss: 0.3143 - val_acc: 0.9266\n",
      "Epoch 48/200\n",
      "1557/1557 [==============================] - 0s 100us/sample - loss: 0.1409 - acc: 0.9929 - val_loss: 0.3018 - val_acc: 0.9326\n",
      "Epoch 49/200\n",
      "1557/1557 [==============================] - 0s 96us/sample - loss: 0.1274 - acc: 0.9936 - val_loss: 0.2915 - val_acc: 0.9356\n",
      "Epoch 50/200\n",
      "1557/1557 [==============================] - 0s 95us/sample - loss: 0.1154 - acc: 0.9942 - val_loss: 0.2821 - val_acc: 0.9356\n",
      "Epoch 51/200\n",
      "1557/1557 [==============================] - 0s 102us/sample - loss: 0.1043 - acc: 0.9961 - val_loss: 0.2730 - val_acc: 0.9371\n",
      "Epoch 52/200\n",
      "1557/1557 [==============================] - 0s 100us/sample - loss: 0.0946 - acc: 0.9961 - val_loss: 0.2646 - val_acc: 0.9386\n",
      "Epoch 53/200\n",
      "1557/1557 [==============================] - 0s 95us/sample - loss: 0.0858 - acc: 0.9974 - val_loss: 0.2582 - val_acc: 0.9386\n",
      "Epoch 54/200\n",
      "1557/1557 [==============================] - 0s 100us/sample - loss: 0.0779 - acc: 0.9974 - val_loss: 0.2525 - val_acc: 0.9401\n",
      "Epoch 55/200\n",
      "1557/1557 [==============================] - 0s 94us/sample - loss: 0.0710 - acc: 0.9981 - val_loss: 0.2474 - val_acc: 0.9386\n",
      "Epoch 56/200\n",
      "1557/1557 [==============================] - 0s 102us/sample - loss: 0.0648 - acc: 0.9987 - val_loss: 0.2411 - val_acc: 0.9386\n",
      "Epoch 57/200\n",
      "1557/1557 [==============================] - 0s 96us/sample - loss: 0.0593 - acc: 0.9994 - val_loss: 0.2375 - val_acc: 0.9401\n",
      "Epoch 58/200\n",
      "1557/1557 [==============================] - 0s 102us/sample - loss: 0.0545 - acc: 0.9994 - val_loss: 0.2339 - val_acc: 0.9401\n",
      "Epoch 59/200\n"
     ]
    },
    {
     "name": "stdout",
     "output_type": "stream",
     "text": [
      "1557/1557 [==============================] - 0s 95us/sample - loss: 0.0501 - acc: 1.0000 - val_loss: 0.2309 - val_acc: 0.9401\n",
      "Epoch 60/200\n",
      "1557/1557 [==============================] - 0s 103us/sample - loss: 0.0463 - acc: 1.0000 - val_loss: 0.2277 - val_acc: 0.9416\n",
      "Epoch 61/200\n",
      "1557/1557 [==============================] - 0s 113us/sample - loss: 0.0429 - acc: 1.0000 - val_loss: 0.2255 - val_acc: 0.9416\n",
      "Epoch 62/200\n",
      "1557/1557 [==============================] - 0s 103us/sample - loss: 0.0398 - acc: 1.0000 - val_loss: 0.2235 - val_acc: 0.9416\n",
      "Epoch 63/200\n",
      "1557/1557 [==============================] - 0s 103us/sample - loss: 0.0370 - acc: 1.0000 - val_loss: 0.2214 - val_acc: 0.9416\n",
      "Epoch 64/200\n",
      "1557/1557 [==============================] - 0s 100us/sample - loss: 0.0345 - acc: 1.0000 - val_loss: 0.2200 - val_acc: 0.9416\n",
      "Epoch 65/200\n",
      "1557/1557 [==============================] - 0s 106us/sample - loss: 0.0322 - acc: 1.0000 - val_loss: 0.2173 - val_acc: 0.9431\n",
      "Epoch 66/200\n",
      "1557/1557 [==============================] - 0s 104us/sample - loss: 0.0301 - acc: 1.0000 - val_loss: 0.2150 - val_acc: 0.9461\n",
      "Epoch 67/200\n",
      "1557/1557 [==============================] - 0s 109us/sample - loss: 0.0282 - acc: 1.0000 - val_loss: 0.2142 - val_acc: 0.9461\n",
      "Epoch 68/200\n",
      "1557/1557 [==============================] - 0s 100us/sample - loss: 0.0265 - acc: 1.0000 - val_loss: 0.2135 - val_acc: 0.9461\n",
      "Epoch 69/200\n",
      "1557/1557 [==============================] - 0s 101us/sample - loss: 0.0250 - acc: 1.0000 - val_loss: 0.2126 - val_acc: 0.9446\n",
      "Epoch 70/200\n",
      "1557/1557 [==============================] - 0s 104us/sample - loss: 0.0235 - acc: 1.0000 - val_loss: 0.2117 - val_acc: 0.9446\n",
      "Epoch 71/200\n",
      "1557/1557 [==============================] - 0s 112us/sample - loss: 0.0222 - acc: 1.0000 - val_loss: 0.2109 - val_acc: 0.9446\n",
      "Epoch 72/200\n",
      "1557/1557 [==============================] - 0s 110us/sample - loss: 0.0210 - acc: 1.0000 - val_loss: 0.2100 - val_acc: 0.9461\n",
      "Epoch 73/200\n",
      "1557/1557 [==============================] - 0s 100us/sample - loss: 0.0199 - acc: 1.0000 - val_loss: 0.2093 - val_acc: 0.9461\n",
      "Epoch 74/200\n",
      "1557/1557 [==============================] - 0s 108us/sample - loss: 0.0188 - acc: 1.0000 - val_loss: 0.2090 - val_acc: 0.9461\n",
      "Epoch 75/200\n",
      "1557/1557 [==============================] - 0s 119us/sample - loss: 0.0179 - acc: 1.0000 - val_loss: 0.2091 - val_acc: 0.9431\n",
      "Epoch 76/200\n",
      "1557/1557 [==============================] - 0s 118us/sample - loss: 0.0170 - acc: 1.0000 - val_loss: 0.2080 - val_acc: 0.9446\n",
      "Epoch 77/200\n",
      "1557/1557 [==============================] - 0s 118us/sample - loss: 0.0162 - acc: 1.0000 - val_loss: 0.2071 - val_acc: 0.9446\n",
      "Epoch 78/200\n",
      "1557/1557 [==============================] - 0s 111us/sample - loss: 0.0154 - acc: 1.0000 - val_loss: 0.2070 - val_acc: 0.9446\n",
      "Epoch 79/200\n",
      "1557/1557 [==============================] - 0s 102us/sample - loss: 0.0147 - acc: 1.0000 - val_loss: 0.2069 - val_acc: 0.9461\n",
      "Epoch 80/200\n",
      "1557/1557 [==============================] - 0s 98us/sample - loss: 0.0141 - acc: 1.0000 - val_loss: 0.2064 - val_acc: 0.9461\n",
      "Epoch 81/200\n",
      "1557/1557 [==============================] - 0s 108us/sample - loss: 0.0134 - acc: 1.0000 - val_loss: 0.2060 - val_acc: 0.9461\n",
      "Epoch 82/200\n",
      "1557/1557 [==============================] - 0s 108us/sample - loss: 0.0129 - acc: 1.0000 - val_loss: 0.2059 - val_acc: 0.9461\n",
      "Epoch 83/200\n",
      "1557/1557 [==============================] - 0s 105us/sample - loss: 0.0123 - acc: 1.0000 - val_loss: 0.2062 - val_acc: 0.9461\n",
      "Epoch 84/200\n",
      "1557/1557 [==============================] - 0s 100us/sample - loss: 0.0118 - acc: 1.0000 - val_loss: 0.2058 - val_acc: 0.9461\n",
      "Epoch 85/200\n",
      "1557/1557 [==============================] - 0s 102us/sample - loss: 0.0113 - acc: 1.0000 - val_loss: 0.2059 - val_acc: 0.9461\n",
      "Epoch 86/200\n",
      "1557/1557 [==============================] - 0s 99us/sample - loss: 0.0109 - acc: 1.0000 - val_loss: 0.2057 - val_acc: 0.9461\n",
      "Epoch 87/200\n",
      "1557/1557 [==============================] - 0s 96us/sample - loss: 0.0105 - acc: 1.0000 - val_loss: 0.2056 - val_acc: 0.9461\n",
      "Epoch 88/200\n",
      "1557/1557 [==============================] - 0s 97us/sample - loss: 0.0100 - acc: 1.0000 - val_loss: 0.2055 - val_acc: 0.9446\n",
      "Epoch 89/200\n",
      "1557/1557 [==============================] - 0s 88us/sample - loss: 0.0097 - acc: 1.0000 - val_loss: 0.2057 - val_acc: 0.9446\n",
      "Epoch 90/200\n",
      "1557/1557 [==============================] - 0s 95us/sample - loss: 0.0093 - acc: 1.0000 - val_loss: 0.2057 - val_acc: 0.9446\n",
      "Epoch 91/200\n",
      "1557/1557 [==============================] - 0s 103us/sample - loss: 0.0090 - acc: 1.0000 - val_loss: 0.2059 - val_acc: 0.9446\n",
      "Epoch 92/200\n",
      "1557/1557 [==============================] - 0s 88us/sample - loss: 0.0087 - acc: 1.0000 - val_loss: 0.2058 - val_acc: 0.9446\n",
      "Epoch 93/200\n",
      "1557/1557 [==============================] - 0s 89us/sample - loss: 0.0083 - acc: 1.0000 - val_loss: 0.2060 - val_acc: 0.9446\n",
      "Epoch 94/200\n",
      "1557/1557 [==============================] - 0s 98us/sample - loss: 0.0081 - acc: 1.0000 - val_loss: 0.2062 - val_acc: 0.9461\n",
      "Epoch 95/200\n",
      "1557/1557 [==============================] - 0s 115us/sample - loss: 0.0078 - acc: 1.0000 - val_loss: 0.2065 - val_acc: 0.9461\n",
      "Epoch 96/200\n",
      "1557/1557 [==============================] - 0s 91us/sample - loss: 0.0075 - acc: 1.0000 - val_loss: 0.2065 - val_acc: 0.9461\n",
      "Epoch 97/200\n",
      "1557/1557 [==============================] - 0s 98us/sample - loss: 0.0073 - acc: 1.0000 - val_loss: 0.2067 - val_acc: 0.9461\n",
      "Epoch 98/200\n",
      "1557/1557 [==============================] - 0s 91us/sample - loss: 0.0070 - acc: 1.0000 - val_loss: 0.2066 - val_acc: 0.9461\n",
      "Epoch 99/200\n",
      "1557/1557 [==============================] - 0s 99us/sample - loss: 0.0068 - acc: 1.0000 - val_loss: 0.2069 - val_acc: 0.9461\n",
      "Epoch 100/200\n",
      "1557/1557 [==============================] - 0s 103us/sample - loss: 0.0066 - acc: 1.0000 - val_loss: 0.2065 - val_acc: 0.9461\n",
      "Epoch 101/200\n",
      "1557/1557 [==============================] - 0s 99us/sample - loss: 0.0064 - acc: 1.0000 - val_loss: 0.2068 - val_acc: 0.9461\n",
      "Epoch 102/200\n",
      "1557/1557 [==============================] - 0s 98us/sample - loss: 0.0062 - acc: 1.0000 - val_loss: 0.2072 - val_acc: 0.9461\n",
      "Epoch 103/200\n",
      "1557/1557 [==============================] - 0s 104us/sample - loss: 0.0060 - acc: 1.0000 - val_loss: 0.2076 - val_acc: 0.9461\n",
      "Epoch 104/200\n",
      "1557/1557 [==============================] - 0s 95us/sample - loss: 0.0058 - acc: 1.0000 - val_loss: 0.2078 - val_acc: 0.9461\n",
      "Epoch 105/200\n",
      "1557/1557 [==============================] - 0s 95us/sample - loss: 0.0057 - acc: 1.0000 - val_loss: 0.2079 - val_acc: 0.9461\n",
      "Epoch 106/200\n",
      "1557/1557 [==============================] - 0s 100us/sample - loss: 0.0055 - acc: 1.0000 - val_loss: 0.2082 - val_acc: 0.9461\n",
      "Epoch 107/200\n",
      "1557/1557 [==============================] - 0s 97us/sample - loss: 0.0053 - acc: 1.0000 - val_loss: 0.2084 - val_acc: 0.9461\n",
      "Epoch 108/200\n",
      "1557/1557 [==============================] - 0s 102us/sample - loss: 0.0052 - acc: 1.0000 - val_loss: 0.2085 - val_acc: 0.9461\n",
      "Epoch 109/200\n",
      "1557/1557 [==============================] - 0s 98us/sample - loss: 0.0050 - acc: 1.0000 - val_loss: 0.2087 - val_acc: 0.9461\n",
      "Epoch 110/200\n",
      "1557/1557 [==============================] - 0s 96us/sample - loss: 0.0049 - acc: 1.0000 - val_loss: 0.2091 - val_acc: 0.9461\n",
      "Epoch 111/200\n",
      "1557/1557 [==============================] - 0s 98us/sample - loss: 0.0048 - acc: 1.0000 - val_loss: 0.2094 - val_acc: 0.9461\n",
      "Epoch 112/200\n",
      "1557/1557 [==============================] - 0s 97us/sample - loss: 0.0046 - acc: 1.0000 - val_loss: 0.2098 - val_acc: 0.9461\n",
      "Epoch 113/200\n",
      "1557/1557 [==============================] - 0s 99us/sample - loss: 0.0045 - acc: 1.0000 - val_loss: 0.2099 - val_acc: 0.9461\n",
      "Epoch 114/200\n",
      "1557/1557 [==============================] - 0s 101us/sample - loss: 0.0044 - acc: 1.0000 - val_loss: 0.2101 - val_acc: 0.9461\n",
      "Epoch 115/200\n",
      "1557/1557 [==============================] - 0s 100us/sample - loss: 0.0043 - acc: 1.0000 - val_loss: 0.2103 - val_acc: 0.9461\n",
      "Epoch 116/200\n",
      "1557/1557 [==============================] - 0s 104us/sample - loss: 0.0042 - acc: 1.0000 - val_loss: 0.2105 - val_acc: 0.9461\n",
      "Epoch 117/200\n"
     ]
    },
    {
     "name": "stdout",
     "output_type": "stream",
     "text": [
      "1557/1557 [==============================] - 0s 100us/sample - loss: 0.0041 - acc: 1.0000 - val_loss: 0.2109 - val_acc: 0.9461\n",
      "Epoch 118/200\n",
      "1557/1557 [==============================] - 0s 98us/sample - loss: 0.0040 - acc: 1.0000 - val_loss: 0.2110 - val_acc: 0.9461\n",
      "Epoch 119/200\n",
      "1557/1557 [==============================] - 0s 108us/sample - loss: 0.0039 - acc: 1.0000 - val_loss: 0.2112 - val_acc: 0.9461\n",
      "Epoch 120/200\n",
      "1557/1557 [==============================] - 0s 106us/sample - loss: 0.0038 - acc: 1.0000 - val_loss: 0.2114 - val_acc: 0.9461\n",
      "Epoch 121/200\n",
      "1557/1557 [==============================] - 0s 114us/sample - loss: 0.0037 - acc: 1.0000 - val_loss: 0.2116 - val_acc: 0.9461\n",
      "Epoch 122/200\n",
      "1557/1557 [==============================] - 0s 104us/sample - loss: 0.0036 - acc: 1.0000 - val_loss: 0.2118 - val_acc: 0.9461\n",
      "Epoch 123/200\n",
      "1557/1557 [==============================] - 0s 100us/sample - loss: 0.0035 - acc: 1.0000 - val_loss: 0.2120 - val_acc: 0.9461\n",
      "Epoch 124/200\n",
      "1557/1557 [==============================] - 0s 108us/sample - loss: 0.0034 - acc: 1.0000 - val_loss: 0.2125 - val_acc: 0.9461\n",
      "Epoch 125/200\n",
      "1557/1557 [==============================] - 0s 109us/sample - loss: 0.0033 - acc: 1.0000 - val_loss: 0.2128 - val_acc: 0.9461\n",
      "Epoch 126/200\n",
      "1557/1557 [==============================] - 0s 99us/sample - loss: 0.0033 - acc: 1.0000 - val_loss: 0.2129 - val_acc: 0.9461\n",
      "Epoch 127/200\n",
      "1557/1557 [==============================] - 0s 106us/sample - loss: 0.0032 - acc: 1.0000 - val_loss: 0.2131 - val_acc: 0.9461\n",
      "Epoch 128/200\n",
      "1557/1557 [==============================] - 0s 107us/sample - loss: 0.0031 - acc: 1.0000 - val_loss: 0.2134 - val_acc: 0.9461\n",
      "Epoch 129/200\n",
      "1557/1557 [==============================] - 0s 104us/sample - loss: 0.0030 - acc: 1.0000 - val_loss: 0.2137 - val_acc: 0.9461\n",
      "Epoch 130/200\n",
      "1557/1557 [==============================] - 0s 115us/sample - loss: 0.0030 - acc: 1.0000 - val_loss: 0.2140 - val_acc: 0.9461\n",
      "Epoch 131/200\n",
      "1557/1557 [==============================] - 0s 112us/sample - loss: 0.0029 - acc: 1.0000 - val_loss: 0.2143 - val_acc: 0.9461\n",
      "Epoch 132/200\n",
      "1557/1557 [==============================] - 0s 102us/sample - loss: 0.0028 - acc: 1.0000 - val_loss: 0.2147 - val_acc: 0.9461\n",
      "Epoch 133/200\n",
      "1557/1557 [==============================] - 0s 110us/sample - loss: 0.0028 - acc: 1.0000 - val_loss: 0.2149 - val_acc: 0.9461\n",
      "Epoch 134/200\n",
      "1557/1557 [==============================] - 0s 108us/sample - loss: 0.0027 - acc: 1.0000 - val_loss: 0.2152 - val_acc: 0.9461\n",
      "Epoch 135/200\n",
      "1557/1557 [==============================] - 0s 109us/sample - loss: 0.0027 - acc: 1.0000 - val_loss: 0.2155 - val_acc: 0.9461\n",
      "Epoch 136/200\n",
      "1557/1557 [==============================] - 0s 106us/sample - loss: 0.0026 - acc: 1.0000 - val_loss: 0.2159 - val_acc: 0.9446\n",
      "Epoch 137/200\n",
      "1557/1557 [==============================] - 0s 106us/sample - loss: 0.0025 - acc: 1.0000 - val_loss: 0.2161 - val_acc: 0.9446\n",
      "Epoch 138/200\n",
      "1557/1557 [==============================] - 0s 104us/sample - loss: 0.0025 - acc: 1.0000 - val_loss: 0.2163 - val_acc: 0.9446\n",
      "Epoch 139/200\n",
      "1557/1557 [==============================] - 0s 101us/sample - loss: 0.0024 - acc: 1.0000 - val_loss: 0.2166 - val_acc: 0.9461\n",
      "Epoch 140/200\n",
      "1557/1557 [==============================] - 0s 104us/sample - loss: 0.0024 - acc: 1.0000 - val_loss: 0.2168 - val_acc: 0.9461\n",
      "Epoch 141/200\n",
      "1557/1557 [==============================] - 0s 97us/sample - loss: 0.0023 - acc: 1.0000 - val_loss: 0.2171 - val_acc: 0.9461\n",
      "Epoch 142/200\n",
      "1557/1557 [==============================] - 0s 99us/sample - loss: 0.0023 - acc: 1.0000 - val_loss: 0.2173 - val_acc: 0.9461\n",
      "Epoch 143/200\n",
      "1557/1557 [==============================] - 0s 102us/sample - loss: 0.0022 - acc: 1.0000 - val_loss: 0.2175 - val_acc: 0.9446\n",
      "Epoch 144/200\n",
      "1557/1557 [==============================] - 0s 108us/sample - loss: 0.0022 - acc: 1.0000 - val_loss: 0.2178 - val_acc: 0.9446\n",
      "Epoch 145/200\n",
      "1557/1557 [==============================] - 0s 106us/sample - loss: 0.0022 - acc: 1.0000 - val_loss: 0.2181 - val_acc: 0.9446\n",
      "Epoch 146/200\n",
      "1557/1557 [==============================] - 0s 99us/sample - loss: 0.0021 - acc: 1.0000 - val_loss: 0.2185 - val_acc: 0.9446\n",
      "Epoch 147/200\n",
      "1557/1557 [==============================] - 0s 98us/sample - loss: 0.0021 - acc: 1.0000 - val_loss: 0.2184 - val_acc: 0.9446\n",
      "Epoch 148/200\n",
      "1557/1557 [==============================] - 0s 104us/sample - loss: 0.0020 - acc: 1.0000 - val_loss: 0.2186 - val_acc: 0.9446\n",
      "Epoch 149/200\n",
      "1557/1557 [==============================] - 0s 99us/sample - loss: 0.0020 - acc: 1.0000 - val_loss: 0.2190 - val_acc: 0.9446\n",
      "Epoch 150/200\n",
      "1557/1557 [==============================] - 0s 102us/sample - loss: 0.0020 - acc: 1.0000 - val_loss: 0.2193 - val_acc: 0.9446\n",
      "Epoch 151/200\n",
      "1557/1557 [==============================] - 0s 102us/sample - loss: 0.0019 - acc: 1.0000 - val_loss: 0.2195 - val_acc: 0.9446\n",
      "Epoch 152/200\n",
      "1557/1557 [==============================] - 0s 106us/sample - loss: 0.0019 - acc: 1.0000 - val_loss: 0.2198 - val_acc: 0.9446\n",
      "Epoch 153/200\n",
      "1557/1557 [==============================] - 0s 106us/sample - loss: 0.0018 - acc: 1.0000 - val_loss: 0.2200 - val_acc: 0.9446\n",
      "Epoch 154/200\n",
      "1557/1557 [==============================] - 0s 103us/sample - loss: 0.0018 - acc: 1.0000 - val_loss: 0.2203 - val_acc: 0.9446\n",
      "Epoch 155/200\n",
      "1557/1557 [==============================] - 0s 99us/sample - loss: 0.0018 - acc: 1.0000 - val_loss: 0.2205 - val_acc: 0.9446\n",
      "Epoch 156/200\n",
      "1557/1557 [==============================] - 0s 102us/sample - loss: 0.0017 - acc: 1.0000 - val_loss: 0.2207 - val_acc: 0.9446\n",
      "Epoch 157/200\n",
      "1557/1557 [==============================] - 0s 103us/sample - loss: 0.0017 - acc: 1.0000 - val_loss: 0.2211 - val_acc: 0.9446\n",
      "Epoch 158/200\n",
      "1557/1557 [==============================] - 0s 98us/sample - loss: 0.0017 - acc: 1.0000 - val_loss: 0.2213 - val_acc: 0.9446\n",
      "Epoch 159/200\n",
      "1557/1557 [==============================] - 0s 99us/sample - loss: 0.0017 - acc: 1.0000 - val_loss: 0.2215 - val_acc: 0.9446\n",
      "Epoch 160/200\n",
      "1557/1557 [==============================] - 0s 103us/sample - loss: 0.0016 - acc: 1.0000 - val_loss: 0.2219 - val_acc: 0.9446\n",
      "Epoch 161/200\n",
      "1557/1557 [==============================] - 0s 106us/sample - loss: 0.0016 - acc: 1.0000 - val_loss: 0.2220 - val_acc: 0.9446\n",
      "Epoch 162/200\n",
      "1557/1557 [==============================] - 0s 102us/sample - loss: 0.0016 - acc: 1.0000 - val_loss: 0.2224 - val_acc: 0.9446\n",
      "Epoch 163/200\n",
      "1557/1557 [==============================] - 0s 102us/sample - loss: 0.0015 - acc: 1.0000 - val_loss: 0.2227 - val_acc: 0.9446\n",
      "Epoch 164/200\n",
      "1557/1557 [==============================] - 0s 101us/sample - loss: 0.0015 - acc: 1.0000 - val_loss: 0.2230 - val_acc: 0.9446\n",
      "Epoch 165/200\n",
      "1557/1557 [==============================] - 0s 99us/sample - loss: 0.0015 - acc: 1.0000 - val_loss: 0.2233 - val_acc: 0.9446\n",
      "Epoch 166/200\n",
      "1557/1557 [==============================] - 0s 105us/sample - loss: 0.0015 - acc: 1.0000 - val_loss: 0.2235 - val_acc: 0.9446\n",
      "Epoch 167/200\n",
      "1557/1557 [==============================] - 0s 100us/sample - loss: 0.0014 - acc: 1.0000 - val_loss: 0.2239 - val_acc: 0.9446\n",
      "Epoch 168/200\n",
      "1557/1557 [==============================] - 0s 102us/sample - loss: 0.0014 - acc: 1.0000 - val_loss: 0.2241 - val_acc: 0.9446\n",
      "Epoch 169/200\n",
      "1557/1557 [==============================] - 0s 99us/sample - loss: 0.0014 - acc: 1.0000 - val_loss: 0.2242 - val_acc: 0.9446\n",
      "Epoch 170/200\n",
      "1557/1557 [==============================] - 0s 99us/sample - loss: 0.0014 - acc: 1.0000 - val_loss: 0.2244 - val_acc: 0.9446\n",
      "Epoch 171/200\n",
      "1557/1557 [==============================] - 0s 104us/sample - loss: 0.0013 - acc: 1.0000 - val_loss: 0.2246 - val_acc: 0.9446\n",
      "Epoch 172/200\n",
      "1557/1557 [==============================] - 0s 102us/sample - loss: 0.0013 - acc: 1.0000 - val_loss: 0.2248 - val_acc: 0.9446\n",
      "Epoch 173/200\n",
      "1557/1557 [==============================] - 0s 106us/sample - loss: 0.0013 - acc: 1.0000 - val_loss: 0.2251 - val_acc: 0.9446\n",
      "Epoch 174/200\n",
      "1557/1557 [==============================] - 0s 102us/sample - loss: 0.0013 - acc: 1.0000 - val_loss: 0.2253 - val_acc: 0.9446\n",
      "Epoch 175/200\n"
     ]
    },
    {
     "name": "stdout",
     "output_type": "stream",
     "text": [
      "1557/1557 [==============================] - 0s 95us/sample - loss: 0.0013 - acc: 1.0000 - val_loss: 0.2255 - val_acc: 0.9446\n",
      "Epoch 176/200\n",
      "1557/1557 [==============================] - 0s 104us/sample - loss: 0.0012 - acc: 1.0000 - val_loss: 0.2258 - val_acc: 0.9446\n",
      "Epoch 177/200\n",
      "1557/1557 [==============================] - 0s 103us/sample - loss: 0.0012 - acc: 1.0000 - val_loss: 0.2262 - val_acc: 0.9446\n",
      "Epoch 178/200\n",
      "1557/1557 [==============================] - 0s 103us/sample - loss: 0.0012 - acc: 1.0000 - val_loss: 0.2265 - val_acc: 0.9446\n",
      "Epoch 179/200\n",
      "1557/1557 [==============================] - 0s 103us/sample - loss: 0.0012 - acc: 1.0000 - val_loss: 0.2266 - val_acc: 0.9446\n",
      "Epoch 180/200\n",
      "1557/1557 [==============================] - 0s 105us/sample - loss: 0.0012 - acc: 1.0000 - val_loss: 0.2269 - val_acc: 0.9446\n",
      "Epoch 181/200\n",
      "1557/1557 [==============================] - 0s 104us/sample - loss: 0.0011 - acc: 1.0000 - val_loss: 0.2271 - val_acc: 0.9446\n",
      "Epoch 182/200\n",
      "1557/1557 [==============================] - 0s 105us/sample - loss: 0.0011 - acc: 1.0000 - val_loss: 0.2275 - val_acc: 0.9446\n",
      "Epoch 183/200\n",
      "1557/1557 [==============================] - 0s 96us/sample - loss: 0.0011 - acc: 1.0000 - val_loss: 0.2278 - val_acc: 0.9446\n",
      "Epoch 184/200\n",
      "1557/1557 [==============================] - 0s 111us/sample - loss: 0.0011 - acc: 1.0000 - val_loss: 0.2280 - val_acc: 0.9446\n",
      "Epoch 185/200\n",
      "1557/1557 [==============================] - 0s 110us/sample - loss: 0.0011 - acc: 1.0000 - val_loss: 0.2282 - val_acc: 0.9446\n",
      "Epoch 186/200\n",
      "1557/1557 [==============================] - 0s 105us/sample - loss: 0.0011 - acc: 1.0000 - val_loss: 0.2285 - val_acc: 0.9446\n",
      "Epoch 187/200\n",
      "1557/1557 [==============================] - 0s 124us/sample - loss: 0.0010 - acc: 1.0000 - val_loss: 0.2288 - val_acc: 0.9446\n",
      "Epoch 188/200\n",
      "1557/1557 [==============================] - 0s 99us/sample - loss: 0.0010 - acc: 1.0000 - val_loss: 0.2290 - val_acc: 0.9446\n",
      "Epoch 189/200\n",
      "1557/1557 [==============================] - 0s 101us/sample - loss: 0.0010 - acc: 1.0000 - val_loss: 0.2292 - val_acc: 0.9446\n",
      "Epoch 190/200\n",
      "1557/1557 [==============================] - 0s 111us/sample - loss: 9.9074e-04 - acc: 1.0000 - val_loss: 0.2295 - val_acc: 0.9446\n",
      "Epoch 191/200\n",
      "1557/1557 [==============================] - 0s 109us/sample - loss: 9.7582e-04 - acc: 1.0000 - val_loss: 0.2297 - val_acc: 0.9446\n",
      "Epoch 192/200\n",
      "1557/1557 [==============================] - 0s 100us/sample - loss: 9.6114e-04 - acc: 1.0000 - val_loss: 0.2300 - val_acc: 0.9446\n",
      "Epoch 193/200\n",
      "1557/1557 [==============================] - 0s 102us/sample - loss: 9.4712e-04 - acc: 1.0000 - val_loss: 0.2302 - val_acc: 0.9446\n",
      "Epoch 194/200\n",
      "1557/1557 [==============================] - 0s 100us/sample - loss: 9.3294e-04 - acc: 1.0000 - val_loss: 0.2304 - val_acc: 0.9446\n",
      "Epoch 195/200\n",
      "1557/1557 [==============================] - 0s 100us/sample - loss: 9.1916e-04 - acc: 1.0000 - val_loss: 0.2306 - val_acc: 0.9446\n",
      "Epoch 196/200\n",
      "1557/1557 [==============================] - 0s 100us/sample - loss: 9.0570e-04 - acc: 1.0000 - val_loss: 0.2308 - val_acc: 0.9446\n",
      "Epoch 197/200\n",
      "1557/1557 [==============================] - 0s 101us/sample - loss: 8.9259e-04 - acc: 1.0000 - val_loss: 0.2311 - val_acc: 0.9446\n",
      "Epoch 198/200\n",
      "1557/1557 [==============================] - 0s 105us/sample - loss: 8.7980e-04 - acc: 1.0000 - val_loss: 0.2312 - val_acc: 0.9446\n",
      "Epoch 199/200\n",
      "1557/1557 [==============================] - 0s 100us/sample - loss: 8.6718e-04 - acc: 1.0000 - val_loss: 0.2315 - val_acc: 0.9446\n",
      "Epoch 200/200\n",
      "1557/1557 [==============================] - 0s 111us/sample - loss: 8.5452e-04 - acc: 1.0000 - val_loss: 0.2318 - val_acc: 0.9446\n"
     ]
    },
    {
     "data": {
      "text/plain": [
       "<tensorflow.python.keras.callbacks.History at 0xac29064fc8>"
      ]
     },
     "execution_count": 58,
     "metadata": {},
     "output_type": "execute_result"
    }
   ],
   "source": [
    "model.fit(np.float32(train_padded) ,  train_label ,epochs=200 , batch_size=128 , validation_data=(np.float32(test_padded) , test_labels))"
   ]
  },
  {
   "cell_type": "code",
   "execution_count": null,
   "metadata": {},
   "outputs": [],
   "source": [
    "xtr = train[700:]"
   ]
  },
  {
   "cell_type": "code",
   "execution_count": null,
   "metadata": {},
   "outputs": [],
   "source": [
    "xla = label[700:]"
   ]
  },
  {
   "cell_type": "code",
   "execution_count": 123,
   "metadata": {},
   "outputs": [
    {
     "data": {
      "text/plain": [
       "array([[0., 0., 0., 0., 1.],\n",
       "       [0., 0., 0., 1., 0.],\n",
       "       [0., 0., 1., 0., 0.],\n",
       "       ...,\n",
       "       [0., 1., 0., 0., 0.],\n",
       "       [0., 0., 1., 0., 0.],\n",
       "       [0., 0., 1., 0., 0.]], dtype=float32)"
      ]
     },
     "execution_count": 123,
     "metadata": {},
     "output_type": "execute_result"
    }
   ],
   "source": [
    "xla"
   ]
  },
  {
   "cell_type": "code",
   "execution_count": 59,
   "metadata": {},
   "outputs": [],
   "source": [
    "from sklearn.metrics import classification_report , confusion_matrix"
   ]
  },
  {
   "cell_type": "code",
   "execution_count": 60,
   "metadata": {},
   "outputs": [],
   "source": [
    "pred = model.predict_classes(np.float32(test_padded))"
   ]
  },
  {
   "cell_type": "code",
   "execution_count": 61,
   "metadata": {},
   "outputs": [
    {
     "data": {
      "text/plain": [
       "array([0, 2, 2, 4, 2, 0, 0, 1, 4, 4, 0, 0, 2, 3, 4, 1, 4, 1, 3, 3, 0, 0,\n",
       "       0, 0, 2, 2, 0, 0, 4, 2, 4, 3, 2, 2, 4, 0, 3, 0, 1, 0, 4, 4, 0, 2,\n",
       "       0, 4, 2, 3, 2, 0, 2, 1, 2, 3, 2, 1, 4, 0, 0, 0, 0, 3, 1, 2, 3, 0,\n",
       "       2, 3, 2, 0, 1, 3, 1, 0, 4, 3, 4, 0, 1, 3, 2, 1, 0, 3, 2, 2, 3, 4,\n",
       "       0, 4, 4, 3, 3, 4, 1, 2, 3, 0, 4, 3, 4, 0, 0, 4, 0, 3, 0, 3, 3, 1,\n",
       "       1, 0, 0, 2, 2, 3, 1, 4, 3, 3, 2, 3, 3, 0, 3, 2, 3, 4, 1, 0, 1, 0,\n",
       "       2, 2, 3, 2, 0, 2, 1, 2, 3, 2, 2, 0, 0, 0, 3, 3, 0, 0, 1, 2, 4, 3,\n",
       "       3, 3, 2, 1, 0, 4, 2, 2, 1, 2, 2, 1, 0, 1, 3, 3, 2, 3, 3, 1, 4, 3,\n",
       "       2, 0, 2, 1, 3, 0, 2, 4, 4, 3, 4, 1, 1, 2, 0, 2, 2, 3, 2, 3, 0, 4,\n",
       "       0, 1, 3, 0, 3, 4, 4, 4, 2, 2, 4, 2, 0, 3, 0, 2, 2, 1, 0, 2, 1, 1,\n",
       "       2, 2, 2, 3, 2, 2, 2, 3, 2, 3, 2, 3, 4, 1, 0, 2, 2, 0, 0, 1, 0, 2,\n",
       "       4, 4, 3, 2, 2, 0, 1, 0, 4, 2, 4, 3, 0, 2, 0, 3, 2, 2, 2, 3, 2, 0,\n",
       "       4, 2, 2, 0, 3, 0, 2, 1, 3, 2, 0, 4, 0, 2, 2, 0, 2, 4, 1, 0, 3, 1,\n",
       "       4, 1, 2, 1, 3, 3, 0, 1, 0, 4, 1, 0, 2, 1, 0, 3, 4, 1, 3, 2, 3, 3,\n",
       "       0, 0, 3, 2, 0, 2, 0, 0, 3, 0, 2, 3, 0, 0, 1, 3, 3, 3, 0, 1, 3, 1,\n",
       "       3, 0, 0, 3, 4, 2, 0, 2, 4, 2, 2, 1, 3, 2, 1, 4, 0, 4, 1, 0, 4, 3,\n",
       "       4, 4, 3, 0, 3, 4, 3, 3, 4, 0, 4, 2, 4, 4, 4, 2, 3, 1, 4, 0, 3, 4,\n",
       "       0, 4, 4, 4, 3, 0, 0, 2, 2, 3, 2, 2, 0, 4, 4, 0, 3, 3, 1, 2, 3, 2,\n",
       "       4, 3, 2, 0, 4, 4, 1, 2, 3, 0, 2, 1, 3, 0, 2, 3, 3, 4, 0, 2, 3, 1,\n",
       "       0, 4, 0, 4, 0, 0, 4, 2, 3, 0, 2, 4, 3, 0, 4, 1, 2, 0, 1, 4, 2, 3,\n",
       "       3, 0, 2, 3, 3, 4, 3, 0, 2, 4, 0, 0, 1, 3, 0, 0, 3, 1, 0, 4, 2, 1,\n",
       "       1, 0, 1, 0, 1, 1, 1, 4, 1, 4, 1, 1, 0, 1, 3, 4, 0, 3, 4, 1, 0, 0,\n",
       "       4, 1, 1, 1, 0, 2, 2, 3, 2, 2, 1, 0, 3, 4, 2, 4, 3, 1, 0, 2, 0, 0,\n",
       "       0, 2, 0, 0, 2, 2, 1, 1, 3, 0, 1, 2, 1, 1, 1, 2, 1, 4, 3, 3, 0, 0,\n",
       "       1, 2, 3, 3, 1, 1, 0, 0, 3, 1, 3, 3, 1, 3, 2, 3, 0, 1, 0, 0, 4, 2,\n",
       "       3, 0, 4, 0, 3, 2, 0, 3, 1, 0, 3, 0, 0, 3, 3, 0, 3, 0, 3, 1, 0, 3,\n",
       "       3, 4, 0, 3, 2, 4, 3, 3, 2, 4, 3, 4, 1, 1, 0, 1, 0, 2, 1, 3, 3, 2,\n",
       "       0, 2, 4, 3, 0, 4, 1, 4, 0, 1, 0, 1, 1, 4, 2, 3, 4, 3, 0, 3, 1, 4,\n",
       "       1, 3, 3, 4, 0, 0, 2, 1, 3, 3, 3, 3, 1, 3, 2, 0, 1, 4, 1, 4, 3, 1,\n",
       "       4, 3, 2, 0, 2, 0, 4, 2, 0, 3, 3, 4, 0, 0, 3, 4, 1, 3, 3, 0, 0, 4,\n",
       "       3, 2, 3, 2, 0, 1, 2, 2], dtype=int64)"
      ]
     },
     "execution_count": 61,
     "metadata": {},
     "output_type": "execute_result"
    }
   ],
   "source": [
    "pred"
   ]
  },
  {
   "cell_type": "code",
   "execution_count": 62,
   "metadata": {},
   "outputs": [],
   "source": [
    "preds= []\n",
    "for i in pred:\n",
    "    if(i == 0):\n",
    "        preds.append([1 , 0 , 0 , 0 , 0])\n",
    "    if(i == 1):\n",
    "        preds.append([0 , 1 , 0 , 0 , 0])\n",
    "    if(i == 2):\n",
    "        preds.append([0 , 0 , 1 , 0 , 0])\n",
    "    if(i == 3):\n",
    "        preds.append([0 , 0 , 0 , 1 , 0])\n",
    "    if(i == 4):\n",
    "        preds.append([0 , 0 , 0 , 0 , 1])       "
   ]
  },
  {
   "cell_type": "code",
   "execution_count": 65,
   "metadata": {
    "scrolled": true
   },
   "outputs": [
    {
     "name": "stdout",
     "output_type": "stream",
     "text": [
      "              precision    recall  f1-score   support\n",
      "\n",
      "           0       0.93      0.97      0.95       155\n",
      "           1       0.99      0.90      0.94       117\n",
      "           2       0.84      0.97      0.90       122\n",
      "           3       0.99      0.99      0.99       153\n",
      "           4       1.00      0.88      0.93       121\n",
      "\n",
      "   micro avg       0.94      0.94      0.94       668\n",
      "   macro avg       0.95      0.94      0.94       668\n",
      "weighted avg       0.95      0.94      0.95       668\n",
      " samples avg       0.94      0.94      0.94       668\n",
      "\n"
     ]
    }
   ],
   "source": [
    "print(classification_report(test_labels , preds))"
   ]
  },
  {
   "cell_type": "code",
   "execution_count": 67,
   "metadata": {},
   "outputs": [],
   "source": [
    "#0->Bussiness 1->Entertainment 2->Politics 3->Sport 4->Technology"
   ]
  },
  {
   "cell_type": "code",
   "execution_count": 134,
   "metadata": {},
   "outputs": [],
   "source": [
    "random_news = ['manchester united will display banner declaring football nothing without fans clubs first match old trafford since resumption premier league amid coronavirus pandemic.the message, quoting former united manager sir matt busby, will placed stretford end wednesday evenings behind-closed doors clash sheffield united.in addition, stands will also contain mosaic featuring supporters countries celebration clubs diversity.executive vice chairman ed woodward sympathised fans unable attend matches due global health crisis predicted difficult months ahead.while everyone manchester united excited getting back playing football, regret fans cannot stadium, recognise difficult times many people around world woodward told united review.as banner stretford end tonight (wednesday) declares, quoting sir matt busby, football nothing without fans, cant wait return old trafford soon safe so.on pitch, no escaping reality coming months going difficult everyone football no exception.however, clubs foundations solid and, provided stick together manage resources carefully, will come period strength intact – thanks large part loyalty fantastic supportersole gunnar solskjaers fifth-placed side returned top-flight action 1-1 draw tottenham chase champions league qualification.the blades, also hold european aspirations, two points worse off ahead short trip across pennines']"
   ]
  },
  {
   "cell_type": "code",
   "execution_count": 140,
   "metadata": {},
   "outputs": [
    {
     "data": {
      "text/plain": [
       "['manchester united will display banner declaring football nothing without fans clubs first match old trafford since resumption premier league amid coronavirus pandemic.the message, quoting former united manager sir matt busby, will placed stretford end wednesday evenings behind-closed doors clash sheffield united.in addition, stands will also contain mosaic featuring supporters countries celebration clubs diversity.executive vice chairman ed woodward sympathised fans unable attend matches due global health crisis predicted difficult months ahead.while everyone manchester united excited getting back playing football, regret fans cannot stadium, recognise difficult times many people around world woodward told united review.as banner stretford end tonight (wednesday) declares, quoting sir matt busby, football nothing without fans, cant wait return old trafford soon safe so.on pitch, no escaping reality coming months going difficult everyone football no exception.however, clubs foundations solid and, provided stick together manage resources carefully, will come period strength intact – thanks large part loyalty fantastic supportersole gunnar solskjaers fifth-placed side returned top-flight action 1-1 draw tottenham chase champions league qualification.the blades, also hold european aspirations, two points worse off ahead short trip across pennines']"
      ]
     },
     "execution_count": 140,
     "metadata": {},
     "output_type": "execute_result"
    }
   ],
   "source": [
    "random_news"
   ]
  },
  {
   "cell_type": "code",
   "execution_count": 132,
   "metadata": {},
   "outputs": [],
   "source": [
    "random_news = random_news.lower()"
   ]
  },
  {
   "cell_type": "code",
   "execution_count": 135,
   "metadata": {},
   "outputs": [],
   "source": [
    "random_padded_seq = token.texts_to_sequences(random_news)"
   ]
  },
  {
   "cell_type": "code",
   "execution_count": 136,
   "metadata": {},
   "outputs": [],
   "source": [
    "random_padded = pad_sequences(random_padded_seq , maxlen=120 , truncating='post')"
   ]
  },
  {
   "cell_type": "code",
   "execution_count": 137,
   "metadata": {},
   "outputs": [],
   "source": [
    "ans = model.predict_classes(random_padded)"
   ]
  },
  {
   "cell_type": "code",
   "execution_count": 138,
   "metadata": {},
   "outputs": [
    {
     "data": {
      "text/plain": [
       "array([3], dtype=int64)"
      ]
     },
     "execution_count": 138,
     "metadata": {},
     "output_type": "execute_result"
    }
   ],
   "source": [
    "ans"
   ]
  },
  {
   "cell_type": "code",
   "execution_count": 139,
   "metadata": {},
   "outputs": [],
   "source": [
    "#It predicted 3 i.e sport"
   ]
  }
 ],
 "metadata": {
  "kernelspec": {
   "display_name": "Python (base)",
   "language": "python",
   "name": "base"
  },
  "language_info": {
   "codemirror_mode": {
    "name": "ipython",
    "version": 3
   },
   "file_extension": ".py",
   "mimetype": "text/x-python",
   "name": "python",
   "nbconvert_exporter": "python",
   "pygments_lexer": "ipython3",
   "version": "3.7.6"
  }
 },
 "nbformat": 4,
 "nbformat_minor": 4
}
